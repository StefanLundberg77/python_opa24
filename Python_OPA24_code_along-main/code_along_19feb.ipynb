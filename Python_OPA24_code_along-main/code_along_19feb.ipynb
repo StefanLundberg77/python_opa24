{
 "cells": [
  {
   "cell_type": "markdown",
   "metadata": {},
   "source": [
    "# Code along session - 19 Feb"
   ]
  },
  {
   "cell_type": "markdown",
   "metadata": {},
   "source": [
    "## Recap"
   ]
  },
  {
   "cell_type": "markdown",
   "metadata": {},
   "source": [
    "##### OOP\n",
    "- Components of OOP: class, objects(instantiate an object), methods, attributes\n",
    "- How to create a class and an object\n",
    "- What is the difference between attribute and method\n",
    "- Different ways of documentating a class: docstring, typehinting etc \n",
    "- Optional topic: private attributes and property"
   ]
  },
  {
   "cell_type": "markdown",
   "metadata": {},
   "source": [
    "##### Up to now, what we have learnt to process data with python\n",
    "- if there is a text file, we can:\n",
    "  - read the text file with ```with statement```\n",
    "  - clean the data with, for example, string methods \n",
    "  - create python data objects, like list, to store the cleaned data\n",
    "  - export the data objects to another text file\n",
    "  \n",
    "- but it is not enough, because for instance:\n",
    "  - we will work with more complicated data like tabular data formats as data inputs \n",
    "  - there are several drawbacks with using python built-in data types for storing the cleaned data, for instance, performance and difficulty in calculation\n",
    "  - --> there's why we need numpy and pandas"
   ]
  },
  {
   "cell_type": "markdown",
   "metadata": {},
   "source": [
    "## Pandas series and dataframe"
   ]
  },
  {
   "cell_type": "markdown",
   "metadata": {},
   "source": [
    "### What and why?\n",
    "\n",
    "\n",
    "- In python, we have built-in data types, like list and dictionary\n",
    "  - low performance: they are slow to performa calculation for a big dataset\n",
    "    - numpy has an array data object which is faster because all elements in an array should be of the same data type\n",
    "  - Vectorization: we can do element-wide calculation with numpy arrawy, but not with list. See an example of multiplication of a list with a number below\n",
    "  \n",
    "- pandas is a library bulit on numpy so pandas is also fast in calculation\n",
    "\n",
    "- pandas is needed over numpy because there is an explicit index for pandas that is useful when referencing data\n",
    "  - even though dictionary has key for each value, we cannot calculate direct with a dictionary"
   ]
  },
  {
   "cell_type": "code",
   "execution_count": null,
   "metadata": {},
   "outputs": [],
   "source": [
    "#list can store elements of different types, which makes it slower in calculation\n",
    "fruit = [1, 3, \"apple\"]\n"
   ]
  },
  {
   "cell_type": "code",
   "execution_count": null,
   "metadata": {},
   "outputs": [
    {
     "name": "stdout",
     "output_type": "stream",
     "text": [
      "[1, 2, 3]\n",
      "[1, 2, 3, 1, 2, 3]\n"
     ]
    }
   ],
   "source": [
    "#multiplication of a list\n",
    "b = [1, 2, 3]\n",
    "print(b)\n",
    "\n",
    "c = b*2\n",
    "print(c)"
   ]
  },
  {
   "cell_type": "code",
   "execution_count": 52,
   "metadata": {},
   "outputs": [
    {
     "name": "stdout",
     "output_type": "stream",
     "text": [
      "[1 2 3]\n",
      "[2 4 6]\n"
     ]
    }
   ],
   "source": [
    "#multiplication of a list\n",
    "\n",
    "import numpy as np\n",
    "\n",
    "a = np.array([1,2,3])\n",
    "print(a)\n",
    "\n",
    "d = a*2\n",
    "print(d)"
   ]
  },
  {
   "cell_type": "code",
   "execution_count": 6,
   "metadata": {},
   "outputs": [
    {
     "data": {
      "text/plain": [
       "np.int64(1)"
      ]
     },
     "execution_count": 6,
     "metadata": {},
     "output_type": "execute_result"
    }
   ],
   "source": [
    "#numpy has an implicit index\n",
    "a[0]\n"
   ]
  },
  {
   "cell_type": "markdown",
   "metadata": {},
   "source": [
    "### Data objects in pandas - pandas series\n",
    "- 1D array of indexed data"
   ]
  },
  {
   "cell_type": "code",
   "execution_count": 8,
   "metadata": {},
   "outputs": [],
   "source": [
    "import pandas as pd"
   ]
  },
  {
   "cell_type": "markdown",
   "metadata": {},
   "source": [
    "##### how to create\n",
    "- it can be created from list, array, dictionay"
   ]
  },
  {
   "cell_type": "code",
   "execution_count": null,
   "metadata": {},
   "outputs": [
    {
     "name": "stdout",
     "output_type": "stream",
     "text": [
      "0    0.25\n",
      "1    0.50\n",
      "2    0.75\n",
      "3    1.00\n",
      "dtype: float64\n"
     ]
    }
   ],
   "source": [
    "#from a list without explicit index\n",
    "series_list = pd.Series([0.25, 0.5, 0.75, 1.0])\n",
    "print(series_list)\n"
   ]
  },
  {
   "cell_type": "code",
   "execution_count": 17,
   "metadata": {},
   "outputs": [
    {
     "name": "stdout",
     "output_type": "stream",
     "text": [
      "a    0.25\n",
      "b    0.50\n",
      "c    0.75\n",
      "d    1.00\n",
      "dtype: float64\n"
     ]
    }
   ],
   "source": [
    "#from a list with explicit index\n",
    "series_list = pd.Series([0.25, 0.5, 0.75, 1.0], index=[\"a\", \"b\", \"c\", \"d\"])\n",
    "print(series_list)"
   ]
  },
  {
   "cell_type": "code",
   "execution_count": null,
   "metadata": {},
   "outputs": [
    {
     "name": "stdout",
     "output_type": "stream",
     "text": [
      "a    1\n",
      "b    2\n",
      "c    3\n",
      "dtype: int64\n"
     ]
    }
   ],
   "source": [
    "#from an array\n",
    "a = np.array([1,2,3])\n",
    "series_array = pd.Series(a, index=[\"a\", \"b\", \"c\"]) \n",
    "print(series_array)\n"
   ]
  },
  {
   "cell_type": "code",
   "execution_count": null,
   "metadata": {},
   "outputs": [
    {
     "name": "stdout",
     "output_type": "stream",
     "text": [
      "a    1\n",
      "b    2\n",
      "c    3\n",
      "dtype: int64\n"
     ]
    }
   ],
   "source": [
    "#from a dictionary without index parameter\n",
    "series_dict = pd.Series({\"a\":1, \"b\":2, \"c\":3})\n",
    "print(series_dict)"
   ]
  },
  {
   "cell_type": "code",
   "execution_count": 20,
   "metadata": {},
   "outputs": [
    {
     "name": "stdout",
     "output_type": "stream",
     "text": [
      "a    1\n",
      "c    3\n",
      "dtype: int64\n"
     ]
    }
   ],
   "source": [
    "#from a dictionary with index parameter\n",
    "series_dict = pd.Series({\"a\":1, \"b\":2, \"c\":3}, index=[\"a\", \"c\"])\n",
    "print(series_dict)"
   ]
  },
  {
   "cell_type": "markdown",
   "metadata": {},
   "source": [
    "##### how to select data from it"
   ]
  },
  {
   "cell_type": "markdown",
   "metadata": {},
   "source": [
    "##### selection with 'key', similar to dictionary"
   ]
  },
  {
   "cell_type": "code",
   "execution_count": 21,
   "metadata": {},
   "outputs": [
    {
     "name": "stdout",
     "output_type": "stream",
     "text": [
      "1\n"
     ]
    }
   ],
   "source": [
    "#use the key of the original dictioinary\n",
    "print(series_dict[\"a\"])"
   ]
  },
  {
   "cell_type": "code",
   "execution_count": null,
   "metadata": {},
   "outputs": [
    {
     "name": "stdout",
     "output_type": "stream",
     "text": [
      "Index(['a', 'c'], dtype='object')\n",
      "[('a', 1), ('c', 3)]\n"
     ]
    }
   ],
   "source": [
    "#also similar to dictionary we can iterate over pandas series\n",
    "print(series_dict.keys())\n",
    "print(list(series_dict.items()))"
   ]
  },
  {
   "cell_type": "markdown",
   "metadata": {},
   "source": [
    "##### selection with index, similar to list "
   ]
  },
  {
   "cell_type": "code",
   "execution_count": null,
   "metadata": {},
   "outputs": [
    {
     "name": "stdout",
     "output_type": "stream",
     "text": [
      "a    1\n",
      "b    2\n",
      "dtype: int64\n",
      "a    1\n",
      "b    2\n",
      "dtype: int64\n"
     ]
    }
   ],
   "source": [
    "series_dict = pd.Series({\"a\":1, \"b\":2, \"c\":3})\n",
    "\n",
    "#slicing with explicit index\n",
    "print(series_dict[\"a\":\"b\"]) #beaware that when slicing a list, it is an open boundary on the right\n",
    "\n",
    "#slicing with implicit index\n",
    "print(series_dict[0:2]) #beaware that it is also open boundary on the right here\n"
   ]
  },
  {
   "cell_type": "code",
   "execution_count": 31,
   "metadata": {},
   "outputs": [
    {
     "data": {
      "text/plain": [
       "1    a\n",
       "3    b\n",
       "5    c\n",
       "dtype: object"
      ]
     },
     "execution_count": 31,
     "metadata": {},
     "output_type": "execute_result"
    }
   ],
   "source": [
    "data = pd.Series(['a', 'b', 'c'], \n",
    "                 index=[1,3,5])\n",
    "data"
   ]
  },
  {
   "cell_type": "code",
   "execution_count": 34,
   "metadata": {},
   "outputs": [
    {
     "name": "stdout",
     "output_type": "stream",
     "text": [
      "a\n",
      "3    b\n",
      "5    c\n",
      "dtype: object\n"
     ]
    }
   ],
   "source": [
    "#This is very confusing if one is using [] syntax for indexing and slicing in pandas series\n",
    "\n",
    "#pandas is using explicit index when indexing\n",
    "print(data[1])\n",
    "\n",
    "#pandas is using implicit index when slicing\n",
    "print(data[1:3]) #implicit index is 0, 1, 2, 3 "
   ]
  },
  {
   "cell_type": "code",
   "execution_count": null,
   "metadata": {},
   "outputs": [
    {
     "name": "stdout",
     "output_type": "stream",
     "text": [
      "a\n",
      "1    a\n",
      "3    b\n",
      "dtype: object\n",
      "b\n",
      "3    b\n",
      "5    c\n",
      "dtype: object\n"
     ]
    }
   ],
   "source": [
    "#alernatively we can use iloc or loc for indexing and slicing in pandas series \n",
    "#for more readable code \n",
    "\n",
    "#.loc means that it is always explicit index that is used in indexing and slicing\n",
    "print(data.loc[1])\n",
    "print(data.loc[1:3])\n",
    "\n",
    "\n",
    "#.iloc means that it is always implicit index that is used in indexing and slicing\n",
    "print(data.iloc[1])\n",
    "print(data.iloc[1:3])"
   ]
  },
  {
   "cell_type": "markdown",
   "metadata": {},
   "source": [
    "### Data objects in pandas - pandas dataframe\n",
    "- similar to tabular dataset\n",
    "- 2D array of indexed data: row index and column names \n",
    "- from list, array, dictionary, we can create pandas series\n",
    "- from mulitple pandas series, we can create a dataframe"
   ]
  },
  {
   "cell_type": "markdown",
   "metadata": {},
   "source": [
    "##### how to create"
   ]
  },
  {
   "cell_type": "code",
   "execution_count": 39,
   "metadata": {},
   "outputs": [
    {
     "data": {
      "text/plain": [
       "California    423\n",
       "Texas         450\n",
       "New York      141\n",
       "Florida       141\n",
       "Illinois      149\n",
       "dtype: int64"
      ]
     },
     "execution_count": 39,
     "metadata": {},
     "output_type": "execute_result"
    }
   ],
   "source": [
    "#create a dict\n",
    "\n",
    "area_dict = {'California': 423,\n",
    "             'Texas': 450,\n",
    "             'New York': 141,\n",
    "             'Florida': 141,\n",
    "             'Illinois': 149}\n",
    "\n",
    "#create a pandas series\n",
    "area = pd.Series(area_dict)\n",
    "area"
   ]
  },
  {
   "cell_type": "code",
   "execution_count": 40,
   "metadata": {},
   "outputs": [
    {
     "data": {
      "text/plain": [
       "California    388\n",
       "Texas         264\n",
       "New York      196\n",
       "Florida       195\n",
       "Illinois      127\n",
       "dtype: int64"
      ]
     },
     "execution_count": 40,
     "metadata": {},
     "output_type": "execute_result"
    }
   ],
   "source": [
    "#create a dict\n",
    "population_dict = {'California': 388,\n",
    "                   'Texas': 264,\n",
    "                   'New York': 196,\n",
    "                   'Florida': 195,\n",
    "                   'Illinois': 127}\n",
    "\n",
    "population = pd.Series(population_dict)\n",
    "\n",
    "population"
   ]
  },
  {
   "cell_type": "code",
   "execution_count": 44,
   "metadata": {},
   "outputs": [
    {
     "data": {
      "text/html": [
       "<div>\n",
       "<style scoped>\n",
       "    .dataframe tbody tr th:only-of-type {\n",
       "        vertical-align: middle;\n",
       "    }\n",
       "\n",
       "    .dataframe tbody tr th {\n",
       "        vertical-align: top;\n",
       "    }\n",
       "\n",
       "    .dataframe thead th {\n",
       "        text-align: right;\n",
       "    }\n",
       "</style>\n",
       "<table border=\"1\" class=\"dataframe\">\n",
       "  <thead>\n",
       "    <tr style=\"text-align: right;\">\n",
       "      <th></th>\n",
       "      <th>pop</th>\n",
       "      <th>area</th>\n",
       "    </tr>\n",
       "  </thead>\n",
       "  <tbody>\n",
       "    <tr>\n",
       "      <th>California</th>\n",
       "      <td>388</td>\n",
       "      <td>423</td>\n",
       "    </tr>\n",
       "    <tr>\n",
       "      <th>Texas</th>\n",
       "      <td>264</td>\n",
       "      <td>450</td>\n",
       "    </tr>\n",
       "    <tr>\n",
       "      <th>New York</th>\n",
       "      <td>196</td>\n",
       "      <td>141</td>\n",
       "    </tr>\n",
       "    <tr>\n",
       "      <th>Florida</th>\n",
       "      <td>195</td>\n",
       "      <td>141</td>\n",
       "    </tr>\n",
       "    <tr>\n",
       "      <th>Illinois</th>\n",
       "      <td>127</td>\n",
       "      <td>149</td>\n",
       "    </tr>\n",
       "  </tbody>\n",
       "</table>\n",
       "</div>"
      ],
      "text/plain": [
       "            pop  area\n",
       "California  388   423\n",
       "Texas       264   450\n",
       "New York    196   141\n",
       "Florida     195   141\n",
       "Illinois    127   149"
      ]
     },
     "execution_count": 44,
     "metadata": {},
     "output_type": "execute_result"
    }
   ],
   "source": [
    "#create a dataframe with two pandas series\n",
    "states = pd.DataFrame({'pop': population,\n",
    "                       'area': area})\n",
    "\n",
    "states"
   ]
  },
  {
   "cell_type": "code",
   "execution_count": 45,
   "metadata": {},
   "outputs": [
    {
     "data": {
      "text/plain": [
       "Index(['pop', 'area'], dtype='object')"
      ]
     },
     "execution_count": 45,
     "metadata": {},
     "output_type": "execute_result"
    }
   ],
   "source": [
    "#column attribute\n",
    "states.columns #we can reassign column name with this attribute"
   ]
  },
  {
   "cell_type": "code",
   "execution_count": 43,
   "metadata": {},
   "outputs": [
    {
     "data": {
      "text/plain": [
       "Index(['California', 'Texas', 'New York', 'Florida', 'Illinois'], dtype='object')"
      ]
     },
     "execution_count": 43,
     "metadata": {},
     "output_type": "execute_result"
    }
   ],
   "source": [
    "#index attribute\n",
    "states.index"
   ]
  },
  {
   "cell_type": "markdown",
   "metadata": {},
   "source": [
    "##### how to select data from it"
   ]
  },
  {
   "cell_type": "code",
   "execution_count": null,
   "metadata": {},
   "outputs": [
    {
     "name": "stdout",
     "output_type": "stream",
     "text": [
      "California    423\n",
      "Texas         450\n",
      "New York      141\n",
      "Florida       141\n",
      "Illinois      149\n",
      "Name: area, dtype: int64\n",
      "California    423\n",
      "Texas         450\n",
      "New York      141\n",
      "Florida       141\n",
      "Illinois      149\n",
      "Name: area, dtype: int64\n"
     ]
    }
   ],
   "source": [
    "#select a column\n",
    "\n",
    "#by using dictionary-style indexing -> preferrable for clean code\n",
    "print(states['area']) #compare dictionary and pandas \n",
    "\n",
    "#by using attribute -> can be confusing if a column name is the same as a method name in dataframe class\n",
    "print(states.area) #compare with states.pop, it is confusing because there is a pop method of dataframe class\n"
   ]
  },
  {
   "cell_type": "code",
   "execution_count": 51,
   "metadata": {},
   "outputs": [
    {
     "name": "stdout",
     "output_type": "stream",
     "text": [
      "            pop  area\n",
      "California  388   423\n",
      "Texas       264   450\n",
      "New York    196   141\n",
      "          pop  area\n",
      "Texas     264   450\n",
      "New York  196   141\n",
      "Florida   195   141\n"
     ]
    }
   ],
   "source": [
    "#select rows with slicing\n",
    "print(states[\"California\":\"New York\"])\n",
    "print(states[1:4])"
   ]
  }
 ],
 "metadata": {
  "kernelspec": {
   "display_name": ".venv",
   "language": "python",
   "name": "python3"
  },
  "language_info": {
   "codemirror_mode": {
    "name": "ipython",
    "version": 3
   },
   "file_extension": ".py",
   "mimetype": "text/x-python",
   "name": "python",
   "nbconvert_exporter": "python",
   "pygments_lexer": "ipython3",
   "version": "3.12.6"
  }
 },
 "nbformat": 4,
 "nbformat_minor": 2
}
