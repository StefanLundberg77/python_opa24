{
 "cells": [
  {
   "cell_type": "code",
   "execution_count": 4,
   "metadata": {},
   "outputs": [
    {
     "data": {
      "application/vnd.microsoft.datawrangler.viewer.v0+json": {
       "columns": [
        {
         "name": "index",
         "rawType": "int64",
         "type": "integer"
        },
        {
         "name": "Innehållsförteckning",
         "rawType": "object",
         "type": "unknown"
        }
       ],
       "conversionMethod": "pd.DataFrame",
       "ref": "2530513b-f910-4392-9386-88952c3adbd2",
       "rows": [
        [
         "0",
         null
        ],
        [
         "1",
         "Definitioner"
        ],
        [
         "2",
         "Definitioner och förklaringar"
        ],
        [
         "3",
         null
        ],
        [
         "4",
         "Tabell 1"
        ],
        [
         "5",
         "Beviljade ansökningar - sorterade efter utbildningsområde, utbildningsnamn, län, kommun och diarienummer"
        ],
        [
         "6",
         null
        ],
        [
         "7",
         "Tabell 2"
        ],
        [
         "8",
         "Beviljade ansökningar - sorterade efter län, kommun, utbildningsområde, utbildningsnamn och diarienummer"
        ],
        [
         "9",
         null
        ],
        [
         "10",
         "Tabell 3"
        ],
        [
         "11",
         "Ansökningar med beslut, detaljer om utbildningsomgångar - sorterade efter utbildningsområde, SUN5 inriktning, utbildningsnamn, beslut och diarienummer"
        ],
        [
         "12",
         null
        ],
        [
         "13",
         "Tabell 4"
        ],
        [
         "14",
         "Utbildningar med utbildningsomgångar som är avsedda att i bedrivas i flera kommuner samtidigt."
        ],
        [
         "15",
         "Här visas vilka län och kommuner som utbildningsomgångarna är avsedda att bedrivas i."
        ]
       ],
       "shape": {
        "columns": 1,
        "rows": 16
       }
      },
      "text/html": [
       "<div>\n",
       "<style scoped>\n",
       "    .dataframe tbody tr th:only-of-type {\n",
       "        vertical-align: middle;\n",
       "    }\n",
       "\n",
       "    .dataframe tbody tr th {\n",
       "        vertical-align: top;\n",
       "    }\n",
       "\n",
       "    .dataframe thead th {\n",
       "        text-align: right;\n",
       "    }\n",
       "</style>\n",
       "<table border=\"1\" class=\"dataframe\">\n",
       "  <thead>\n",
       "    <tr style=\"text-align: right;\">\n",
       "      <th></th>\n",
       "      <th>Innehållsförteckning</th>\n",
       "    </tr>\n",
       "  </thead>\n",
       "  <tbody>\n",
       "    <tr>\n",
       "      <th>0</th>\n",
       "      <td>NaN</td>\n",
       "    </tr>\n",
       "    <tr>\n",
       "      <th>1</th>\n",
       "      <td>Definitioner</td>\n",
       "    </tr>\n",
       "    <tr>\n",
       "      <th>2</th>\n",
       "      <td>Definitioner och förklaringar</td>\n",
       "    </tr>\n",
       "    <tr>\n",
       "      <th>3</th>\n",
       "      <td>NaN</td>\n",
       "    </tr>\n",
       "    <tr>\n",
       "      <th>4</th>\n",
       "      <td>Tabell 1</td>\n",
       "    </tr>\n",
       "    <tr>\n",
       "      <th>5</th>\n",
       "      <td>Beviljade ansökningar - sorterade efter utbild...</td>\n",
       "    </tr>\n",
       "    <tr>\n",
       "      <th>6</th>\n",
       "      <td>NaN</td>\n",
       "    </tr>\n",
       "    <tr>\n",
       "      <th>7</th>\n",
       "      <td>Tabell 2</td>\n",
       "    </tr>\n",
       "    <tr>\n",
       "      <th>8</th>\n",
       "      <td>Beviljade ansökningar - sorterade efter län, k...</td>\n",
       "    </tr>\n",
       "    <tr>\n",
       "      <th>9</th>\n",
       "      <td>NaN</td>\n",
       "    </tr>\n",
       "    <tr>\n",
       "      <th>10</th>\n",
       "      <td>Tabell 3</td>\n",
       "    </tr>\n",
       "    <tr>\n",
       "      <th>11</th>\n",
       "      <td>Ansökningar med beslut, detaljer om utbildning...</td>\n",
       "    </tr>\n",
       "    <tr>\n",
       "      <th>12</th>\n",
       "      <td>NaN</td>\n",
       "    </tr>\n",
       "    <tr>\n",
       "      <th>13</th>\n",
       "      <td>Tabell 4</td>\n",
       "    </tr>\n",
       "    <tr>\n",
       "      <th>14</th>\n",
       "      <td>Utbildningar med utbildningsomgångar som är av...</td>\n",
       "    </tr>\n",
       "    <tr>\n",
       "      <th>15</th>\n",
       "      <td>Här visas vilka län och kommuner som utbildnin...</td>\n",
       "    </tr>\n",
       "  </tbody>\n",
       "</table>\n",
       "</div>"
      ],
      "text/plain": [
       "                                 Innehållsförteckning\n",
       "0                                                 NaN\n",
       "1                                        Definitioner\n",
       "2                       Definitioner och förklaringar\n",
       "3                                                 NaN\n",
       "4                                            Tabell 1\n",
       "5   Beviljade ansökningar - sorterade efter utbild...\n",
       "6                                                 NaN\n",
       "7                                            Tabell 2\n",
       "8   Beviljade ansökningar - sorterade efter län, k...\n",
       "9                                                 NaN\n",
       "10                                           Tabell 3\n",
       "11  Ansökningar med beslut, detaljer om utbildning...\n",
       "12                                                NaN\n",
       "13                                           Tabell 4\n",
       "14  Utbildningar med utbildningsomgångar som är av...\n",
       "15  Här visas vilka län och kommuner som utbildnin..."
      ]
     },
     "execution_count": 4,
     "metadata": {},
     "output_type": "execute_result"
    }
   ],
   "source": [
    "import pandas as pd\n",
    "\n",
    "data = pd.read_excel(\"data/resultat-ansokningsomgang-2024.xlsx\")\n",
    "data"
   ]
  }
 ],
 "metadata": {
  "kernelspec": {
   "display_name": ".venv",
   "language": "python",
   "name": "python3"
  },
  "language_info": {
   "codemirror_mode": {
    "name": "ipython",
    "version": 3
   },
   "file_extension": ".py",
   "mimetype": "text/x-python",
   "name": "python",
   "nbconvert_exporter": "python",
   "pygments_lexer": "ipython3",
   "version": "3.13.2"
  }
 },
 "nbformat": 4,
 "nbformat_minor": 2
}
